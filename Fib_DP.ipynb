{
 "cells": [
  {
   "cell_type": "code",
   "execution_count": 4,
   "metadata": {},
   "outputs": [
    {
     "name": "stdout",
     "output_type": "stream",
     "text": [
      "5702887\n"
     ]
    }
   ],
   "source": [
    "#Top Down Approach\n",
    "def fib(n,lookup):\n",
    "    if n==0 or n==1:\n",
    "        lookup[n]=n\n",
    "    if lookup[n] is None:\n",
    "        lookup[n]=fib(n-1,lookup)+fib(n-2,lookup)\n",
    "    return lookup[n]\n",
    "\n",
    "n=34\n",
    "lookup=[None]*101\n",
    "print(fib(n,lookup))"
   ]
  },
  {
   "cell_type": "code",
   "execution_count": 5,
   "metadata": {},
   "outputs": [
    {
     "name": "stdout",
     "output_type": "stream",
     "text": [
      "5702887\n"
     ]
    }
   ],
   "source": [
    "#Bottom Up\n",
    "\n",
    "def fibB(n):\n",
    "    f=[0]*(n+1)\n",
    "    f[1]=1\n",
    "    for i in range(2,n+1):\n",
    "        f[i]=f[i-1]+f[i-2]\n",
    "    return f[n]\n",
    "print(fibB(34))"
   ]
  },
  {
   "cell_type": "code",
   "execution_count": null,
   "metadata": {
    "collapsed": true
   },
   "outputs": [],
   "source": []
  }
 ],
 "metadata": {
  "kernelspec": {
   "display_name": "Python 3",
   "language": "python",
   "name": "python3"
  },
  "language_info": {
   "codemirror_mode": {
    "name": "ipython",
    "version": 3
   },
   "file_extension": ".py",
   "mimetype": "text/x-python",
   "name": "python",
   "nbconvert_exporter": "python",
   "pygments_lexer": "ipython3",
   "version": "3.6.3"
  }
 },
 "nbformat": 4,
 "nbformat_minor": 2
}
